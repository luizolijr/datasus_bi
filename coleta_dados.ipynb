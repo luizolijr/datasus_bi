{
 "cells": [
  {
   "cell_type": "code",
   "execution_count": 5,
   "id": "1ed770bf",
   "metadata": {
    "ExecuteTime": {
     "end_time": "2024-01-17T15:01:03.595063Z",
     "start_time": "2024-01-17T15:01:03.579541Z"
    }
   },
   "outputs": [
    {
     "name": "stdout",
     "output_type": "stream",
     "text": [
      "['2012-01-01', '2012-02-01', '2012-03-01', '2012-04-01', '2012-05-01', '2012-06-01', '2012-07-01', '2012-08-01', '2012-09-01', '2012-10-01', '2012-11-01', '2012-12-01', '2013-01-01', '2013-02-01', '2013-03-01', '2013-04-01', '2013-05-01', '2013-06-01', '2013-07-01', '2013-08-01', '2013-09-01']\n"
     ]
    }
   ],
   "source": [
    "import urllib.request\n",
    "import os\n",
    "from tqdm import tqdm\n",
    "import datetime\n",
    "\n",
    "def get_data_uf_ano_mes(uf, ano, mes):\n",
    "    \n",
    "    url = f\"ftp://ftp.datasus.gov.br/dissemin/publicos/SIHSUS/200801_/Dados/RD{uf}{ano}{mes}.dbc\"\n",
    "\n",
    "    file_s3 = f\"C:\\\\Users\\\\luizjr\\\\REPOS\\\\data_sus\\\\data_dbc\\\\RD{uf}{ano}{mes}.dbc\"\n",
    "\n",
    "\n",
    "    resp = urllib.request.urlretrieve(url, file_s3)\n",
    "       \n",
    "\n",
    "def get_data_uf(uf, datas):\n",
    "    for i in tqdm(datas):\n",
    "        ano, mes, dia = i.split(\"-\")\n",
    "        ano = ano[-2:]\n",
    "        get_data_uf_ano_mes(uf, ano, mes)\n",
    "        \n",
    "#lista completa de estados\n",
    "# ufs = [\"AC\", \"AL\", \"AP\", \"AM\", \"BA\",\n",
    "#        \"CE\", \"DF\", \"ES\", \"GO\", \"MA\",\n",
    "#        \"MT\", \"MS\", \"MG\", \"PA\", \"PB\",\n",
    "#        \"PR\", \"PE\", \"PI\", \"RJ\", \"RN\",\n",
    "#        \"RS\", \"RO\", \"RR\", \"SC\", \"SP\",\n",
    "#        \"SE\", \"TO\"]\n",
    "\n",
    "ufs = [\"RJ\"]\n",
    "\n",
    "\n",
    "def date_range(start, stop, monthly=False):\n",
    "    dt_start = datetime.datetime.strptime(start, '%Y-%m-%d')\n",
    "    dt_stop = datetime.datetime.strptime(stop, '%Y-%m-%d')\n",
    "    dates = []\n",
    "    \n",
    "    while dt_start <= dt_stop:\n",
    "        dates.append(dt_start.strftime(\"%Y-%m-%d\"))\n",
    "        dt_start += datetime.timedelta(days=1)\n",
    "        \n",
    "    if monthly:\n",
    "        return [i for i in dates if i.endswith(\"01\")]\n",
    "    \n",
    "    return dates\n",
    "\n",
    "dt_start = '2012-01-01'\n",
    "dt_stop = '2013-09-01'\n",
    "\n",
    "datas = date_range(dt_start, dt_stop, monthly=True)\n",
    "\n",
    "for uf in ufs:\n",
    "    print(uf)\n",
    "    get_data_uf(uf, datas)"
   ]
  }
 ],
 "metadata": {
  "kernelspec": {
   "display_name": "Python 3 (ipykernel)",
   "language": "python",
   "name": "python3"
  },
  "language_info": {
   "codemirror_mode": {
    "name": "ipython",
    "version": 3
   },
   "file_extension": ".py",
   "mimetype": "text/x-python",
   "name": "python",
   "nbconvert_exporter": "python",
   "pygments_lexer": "ipython3",
   "version": "3.9.13"
  }
 },
 "nbformat": 4,
 "nbformat_minor": 5
}
